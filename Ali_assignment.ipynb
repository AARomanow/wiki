{
  "nbformat": 4,
  "nbformat_minor": 0,
  "metadata": {
    "colab": {
      "provenance": [],
      "include_colab_link": true
    },
    "kernelspec": {
      "name": "python3",
      "display_name": "Python 3"
    },
    "language_info": {
      "name": "python"
    }
  },
  "cells": [
    {
      "cell_type": "markdown",
      "metadata": {
        "id": "view-in-github",
        "colab_type": "text"
      },
      "source": [
        "<a href=\"https://colab.research.google.com/github/AARomanow/wiki/blob/main/Ali_assignment.ipynb\" target=\"_parent\"><img src=\"https://colab.research.google.com/assets/colab-badge.svg\" alt=\"Open In Colab\"/></a>"
      ]
    },
    {
      "cell_type": "code",
      "execution_count": null,
      "metadata": {
        "colab": {
          "base_uri": "https://localhost:8080/"
        },
        "id": "0Dj8hxP22hO-",
        "outputId": "34f361cb-50e0-4063-c312-79bb3805796d"
      },
      "outputs": [
        {
          "output_type": "stream",
          "name": "stdout",
          "text": [
            "--2023-08-14 07:04:30--  https://sourceforge.net/projects/bowtie-bio/files/bowtie2/2.4.1/bowtie2-2.4.1-linux-x86_64.zip/download\n",
            "Resolving sourceforge.net (sourceforge.net)... 104.18.11.128, 104.18.10.128, 2606:4700::6812:a80, ...\n",
            "Connecting to sourceforge.net (sourceforge.net)|104.18.11.128|:443... connected.\n",
            "HTTP request sent, awaiting response... 302 Found\n",
            "Location: https://downloads.sourceforge.net/project/bowtie-bio/bowtie2/2.4.1/bowtie2-2.4.1-linux-x86_64.zip?ts=gAAAAABk2dH_aazLY3moAzoGwk32cwYG5AGCYt0fD3sejjYdRC6Py1ZT0lxc4WzdUha26A7vIkeEFMhbW4lElRrupj58brofSA%3D%3D&use_mirror=versaweb&r= [following]\n",
            "--2023-08-14 07:04:31--  https://downloads.sourceforge.net/project/bowtie-bio/bowtie2/2.4.1/bowtie2-2.4.1-linux-x86_64.zip?ts=gAAAAABk2dH_aazLY3moAzoGwk32cwYG5AGCYt0fD3sejjYdRC6Py1ZT0lxc4WzdUha26A7vIkeEFMhbW4lElRrupj58brofSA%3D%3D&use_mirror=versaweb&r=\n",
            "Resolving downloads.sourceforge.net (downloads.sourceforge.net)... 204.68.111.105\n",
            "Connecting to downloads.sourceforge.net (downloads.sourceforge.net)|204.68.111.105|:443... connected.\n",
            "HTTP request sent, awaiting response... 302 Found\n",
            "Location: https://versaweb.dl.sourceforge.net/project/bowtie-bio/bowtie2/2.4.1/bowtie2-2.4.1-linux-x86_64.zip [following]\n",
            "--2023-08-14 07:04:31--  https://versaweb.dl.sourceforge.net/project/bowtie-bio/bowtie2/2.4.1/bowtie2-2.4.1-linux-x86_64.zip\n",
            "Resolving versaweb.dl.sourceforge.net (versaweb.dl.sourceforge.net)... 162.251.232.173\n",
            "Connecting to versaweb.dl.sourceforge.net (versaweb.dl.sourceforge.net)|162.251.232.173|:443... connected.\n",
            "HTTP request sent, awaiting response... 200 OK\n",
            "Length: 49390960 (47M) [application/octet-stream]\n",
            "Saving to: ‘bowtie2-2.4.1.zip’\n",
            "\n",
            "bowtie2-2.4.1.zip   100%[===================>]  47.10M  4.94MB/s    in 9.3s    \n",
            "\n",
            "2023-08-14 07:04:41 (5.08 MB/s) - ‘bowtie2-2.4.1.zip’ saved [49390960/49390960]\n",
            "\n"
          ]
        }
      ],
      "source": [
        "! wget https://sourceforge.net/projects/bowtie-bio/files/bowtie2/2.4.1/bowtie2-2.4.1-linux-x86_64.zip/download -O bowtie2-2.4.1.zip"
      ]
    },
    {
      "cell_type": "code",
      "source": [
        "!unzip bowtie2-2.4.1.zip"
      ],
      "metadata": {
        "colab": {
          "base_uri": "https://localhost:8080/"
        },
        "id": "Yh5DWuAW3Ekl",
        "outputId": "50fc8e0a-6c6b-4a03-bd90-439ae5caebae"
      },
      "execution_count": null,
      "outputs": [
        {
          "output_type": "stream",
          "name": "stdout",
          "text": [
            "Archive:  bowtie2-2.4.1.zip\n",
            "   creating: bowtie2-2.4.1-linux-x86_64/\n",
            "  inflating: bowtie2-2.4.1-linux-x86_64/bowtie2-inspect-l  \n",
            "   creating: bowtie2-2.4.1-linux-x86_64/example/\n",
            "   creating: bowtie2-2.4.1-linux-x86_64/example/reference/\n",
            "  inflating: bowtie2-2.4.1-linux-x86_64/example/reference/lambda_virus.fa  \n",
            "   creating: bowtie2-2.4.1-linux-x86_64/example/reads/\n",
            "  inflating: bowtie2-2.4.1-linux-x86_64/example/reads/simulate.pl  \n",
            "  inflating: bowtie2-2.4.1-linux-x86_64/example/reads/longreads.fq  \n",
            "  inflating: bowtie2-2.4.1-linux-x86_64/example/reads/combined_reads.bam  \n",
            "  inflating: bowtie2-2.4.1-linux-x86_64/example/reads/reads_2.fq  \n",
            "  inflating: bowtie2-2.4.1-linux-x86_64/example/reads/reads_1.fq  \n",
            "   creating: bowtie2-2.4.1-linux-x86_64/example/index/\n",
            "  inflating: bowtie2-2.4.1-linux-x86_64/example/index/lambda_virus.rev.2.bt2  \n",
            "  inflating: bowtie2-2.4.1-linux-x86_64/example/index/lambda_virus.1.bt2  \n",
            "  inflating: bowtie2-2.4.1-linux-x86_64/example/index/lambda_virus.3.bt2  \n",
            "  inflating: bowtie2-2.4.1-linux-x86_64/example/index/lambda_virus.2.bt2  \n",
            "  inflating: bowtie2-2.4.1-linux-x86_64/example/index/lambda_virus.rev.1.bt2  \n",
            "  inflating: bowtie2-2.4.1-linux-x86_64/example/index/lambda_virus.4.bt2  \n",
            "  inflating: bowtie2-2.4.1-linux-x86_64/bowtie2-build-s  \n",
            "   creating: bowtie2-2.4.1-linux-x86_64/scripts/\n",
            "  inflating: bowtie2-2.4.1-linux-x86_64/scripts/make_b_taurus_UMD3.sh  \n",
            "  inflating: bowtie2-2.4.1-linux-x86_64/scripts/make_hg18.sh  \n",
            "  inflating: bowtie2-2.4.1-linux-x86_64/scripts/make_d_melanogaster.sh  \n",
            "  inflating: bowtie2-2.4.1-linux-x86_64/scripts/make_canFam2.sh  \n",
            "  inflating: bowtie2-2.4.1-linux-x86_64/scripts/bowtie2-hbb.sh  \n",
            "  inflating: bowtie2-2.4.1-linux-x86_64/scripts/make_s_cerevisiae.sh  \n",
            "  inflating: bowtie2-2.4.1-linux-x86_64/scripts/gen_occ_lookup.pl  \n",
            "  inflating: bowtie2-2.4.1-linux-x86_64/scripts/make_m_musculus_ncbi37.sh  \n",
            "  inflating: bowtie2-2.4.1-linux-x86_64/scripts/make_hg19.sh  \n",
            "  inflating: bowtie2-2.4.1-linux-x86_64/scripts/make_mm10.sh  \n",
            "  inflating: bowtie2-2.4.1-linux-x86_64/scripts/infer_fraglen.pl  \n",
            "  inflating: bowtie2-2.4.1-linux-x86_64/scripts/gen_2b_occ_lookup.pl  \n",
            "  inflating: bowtie2-2.4.1-linux-x86_64/scripts/convert_quals.pl  \n",
            "  inflating: bowtie2-2.4.1-linux-x86_64/scripts/make_mm9.sh  \n",
            "  inflating: bowtie2-2.4.1-linux-x86_64/scripts/make_h_sapiens_ncbi37.sh  \n",
            "  inflating: bowtie2-2.4.1-linux-x86_64/scripts/make_h_sapiens_ncbi36.sh  \n",
            "  inflating: bowtie2-2.4.1-linux-x86_64/scripts/make_rn4.sh  \n",
            "  inflating: bowtie2-2.4.1-linux-x86_64/scripts/make_a_thaliana_tair.sh  \n",
            "  inflating: bowtie2-2.4.1-linux-x86_64/scripts/gen_solqual_lookup.pl  \n",
            "  inflating: bowtie2-2.4.1-linux-x86_64/scripts/make_e_coli.sh  \n",
            "  inflating: bowtie2-2.4.1-linux-x86_64/scripts/make_c_elegans.sh  \n",
            "  inflating: bowtie2-2.4.1-linux-x86_64/LICENSE  \n",
            "  inflating: bowtie2-2.4.1-linux-x86_64/bowtie2-align-l-debug  \n",
            "  inflating: bowtie2-2.4.1-linux-x86_64/MANUAL.markdown  \n",
            " extracting: bowtie2-2.4.1-linux-x86_64/VERSION  \n",
            "  inflating: bowtie2-2.4.1-linux-x86_64/bowtie2-inspect-l-debug  \n",
            "  inflating: bowtie2-2.4.1-linux-x86_64/MANUAL  \n",
            "  inflating: bowtie2-2.4.1-linux-x86_64/NEWS  \n",
            "  inflating: bowtie2-2.4.1-linux-x86_64/bowtie2-inspect-s-debug  \n",
            "  inflating: bowtie2-2.4.1-linux-x86_64/bowtie2-align-s-debug  \n",
            "  inflating: bowtie2-2.4.1-linux-x86_64/TUTORIAL  \n",
            "   creating: bowtie2-2.4.1-linux-x86_64/doc/\n",
            "  inflating: bowtie2-2.4.1-linux-x86_64/doc/manual.html  \n",
            "  inflating: bowtie2-2.4.1-linux-x86_64/doc/README  \n",
            "  inflating: bowtie2-2.4.1-linux-x86_64/doc/style.css  \n",
            "  inflating: bowtie2-2.4.1-linux-x86_64/bowtie2-inspect  \n",
            "  inflating: bowtie2-2.4.1-linux-x86_64/bowtie2-build-s-debug  \n",
            "  inflating: bowtie2-2.4.1-linux-x86_64/README.md  \n",
            "  inflating: bowtie2-2.4.1-linux-x86_64/bowtie2-build-l-debug  \n",
            "  inflating: bowtie2-2.4.1-linux-x86_64/bowtie2-align-s  \n",
            "  inflating: bowtie2-2.4.1-linux-x86_64/bowtie2-align-l  \n",
            "  inflating: bowtie2-2.4.1-linux-x86_64/bowtie2-build  \n",
            "  inflating: bowtie2-2.4.1-linux-x86_64/AUTHORS  \n",
            "  inflating: bowtie2-2.4.1-linux-x86_64/bowtie2-build-l  \n",
            "  inflating: bowtie2-2.4.1-linux-x86_64/bowtie2  \n",
            "  inflating: bowtie2-2.4.1-linux-x86_64/bowtie2-inspect-s  \n"
          ]
        }
      ]
    },
    {
      "cell_type": "code",
      "source": [
        "import os\n",
        "os.environ['PATH'] += \":/content/bowtie2-2.4.1-linux-x86_64\"\n"
      ],
      "metadata": {
        "id": "FBjFr-mW3I2N"
      },
      "execution_count": null,
      "outputs": []
    },
    {
      "cell_type": "code",
      "source": [
        "!ls /content/\n"
      ],
      "metadata": {
        "colab": {
          "base_uri": "https://localhost:8080/"
        },
        "id": "-VmrfDRB3fgE",
        "outputId": "354d7ff1-90ff-4ec9-ad64-038f28f5994a"
      },
      "execution_count": null,
      "outputs": [
        {
          "output_type": "stream",
          "name": "stdout",
          "text": [
            "bowtie2-2.4.1-linux-x86_64  bowtie2_index.tgz  genome.fa\t  sample_data\n",
            "bowtie2-2.4.1.zip\t    e_coli.gtf\t       reads_7.fastq.tgz\n"
          ]
        }
      ]
    },
    {
      "cell_type": "code",
      "source": [
        "import os\n",
        "os.environ['PATH'] += \":/content/bowtie2-2.4.1-linux-x86_64\"\n"
      ],
      "metadata": {
        "id": "xGjH7QvA3xYx"
      },
      "execution_count": null,
      "outputs": []
    },
    {
      "cell_type": "code",
      "source": [
        "!bowtie2 --version\n"
      ],
      "metadata": {
        "colab": {
          "base_uri": "https://localhost:8080/"
        },
        "id": "zZhhK6Vk30Ue",
        "outputId": "fa820b00-4b15-4241-e42e-a84af5bd0712"
      },
      "execution_count": null,
      "outputs": [
        {
          "output_type": "stream",
          "name": "stdout",
          "text": [
            "/content/bowtie2-2.4.1-linux-x86_64/bowtie2-align-s version 2.4.1\n",
            "64-bit\n",
            "Built on \n",
            "Fri Feb 28 22:21:25 UTC 2020\n",
            "Compiler: gcc version 7.3.1 20180303 (Red Hat 7.3.1-5) (GCC) \n",
            "Options: -O3 -msse2 -funroll-loops -g3 -g -O2 -fvisibility=hidden -I/hbb_exe_gc_hardened/include -ffunction-sections -fdata-sections -fstack-protector -D_FORTIFY_SOURCE=2 -fPIE -DPOPCNT_CAPABILITY -DWITH_TBB -std=c++11 -DNO_SPINLOCK -DWITH_QUEUELOCK=1\n",
            "Sizeof {int, long, long long, void*, size_t, off_t}: {4, 8, 8, 8, 8, 8}\n"
          ]
        }
      ]
    },
    {
      "cell_type": "code",
      "source": [
        "!wget https://sourceforge.net/projects/subread/files/subread-2.0.1/subread-2.0.1-Linux-x86_64.tar.gz/download -O subread-2.0.1.tar.gz\n"
      ],
      "metadata": {
        "colab": {
          "base_uri": "https://localhost:8080/"
        },
        "id": "RhlZywot37DS",
        "outputId": "5b524107-beaa-4c7b-f20d-d92f412f9ef4"
      },
      "execution_count": null,
      "outputs": [
        {
          "output_type": "stream",
          "name": "stdout",
          "text": [
            "--2023-08-14 07:08:34--  https://sourceforge.net/projects/subread/files/subread-2.0.1/subread-2.0.1-Linux-x86_64.tar.gz/download\n",
            "Resolving sourceforge.net (sourceforge.net)... 104.18.11.128, 104.18.10.128, 2606:4700::6812:a80, ...\n",
            "Connecting to sourceforge.net (sourceforge.net)|104.18.11.128|:443... connected.\n",
            "HTTP request sent, awaiting response... 302 Found\n",
            "Location: https://downloads.sourceforge.net/project/subread/subread-2.0.1/subread-2.0.1-Linux-x86_64.tar.gz?ts=gAAAAABk2dLyk9muVby4mYgbrXH3gmCrxusvlMety7pVVys1LL4IvksTp1Demr1RjI55rriiVqn0xqSdsaavVW7flqe1cWJyuQ%3D%3D&use_mirror=cfhcable&r= [following]\n",
            "--2023-08-14 07:08:34--  https://downloads.sourceforge.net/project/subread/subread-2.0.1/subread-2.0.1-Linux-x86_64.tar.gz?ts=gAAAAABk2dLyk9muVby4mYgbrXH3gmCrxusvlMety7pVVys1LL4IvksTp1Demr1RjI55rriiVqn0xqSdsaavVW7flqe1cWJyuQ%3D%3D&use_mirror=cfhcable&r=\n",
            "Resolving downloads.sourceforge.net (downloads.sourceforge.net)... 204.68.111.105\n",
            "Connecting to downloads.sourceforge.net (downloads.sourceforge.net)|204.68.111.105|:443... connected.\n",
            "HTTP request sent, awaiting response... 302 Found\n",
            "Location: https://cfhcable.dl.sourceforge.net/project/subread/subread-2.0.1/subread-2.0.1-Linux-x86_64.tar.gz [following]\n",
            "--2023-08-14 07:08:35--  https://cfhcable.dl.sourceforge.net/project/subread/subread-2.0.1/subread-2.0.1-Linux-x86_64.tar.gz\n",
            "Resolving cfhcable.dl.sourceforge.net (cfhcable.dl.sourceforge.net)... 146.71.73.6\n",
            "Connecting to cfhcable.dl.sourceforge.net (cfhcable.dl.sourceforge.net)|146.71.73.6|:443... connected.\n",
            "HTTP request sent, awaiting response... 200 OK\n",
            "Length: 37245153 (36M) [application/x-gzip]\n",
            "Saving to: ‘subread-2.0.1.tar.gz’\n",
            "\n",
            "subread-2.0.1.tar.g 100%[===================>]  35.52M  41.3MB/s    in 0.9s    \n",
            "\n",
            "2023-08-14 07:08:36 (41.3 MB/s) - ‘subread-2.0.1.tar.gz’ saved [37245153/37245153]\n",
            "\n"
          ]
        }
      ]
    },
    {
      "cell_type": "code",
      "source": [
        "!tar -xf subread-2.0.1.tar.gz\n"
      ],
      "metadata": {
        "id": "dN7U9vhA4AFK"
      },
      "execution_count": null,
      "outputs": []
    },
    {
      "cell_type": "code",
      "source": [
        "os.environ['PATH'] += \":/content/subread-2.0.1-Linux-x86_64/bin/\"\n"
      ],
      "metadata": {
        "id": "jHXhiDYB4Chl"
      },
      "execution_count": null,
      "outputs": []
    },
    {
      "cell_type": "code",
      "source": [
        "!bowtie2 --version\n"
      ],
      "metadata": {
        "colab": {
          "base_uri": "https://localhost:8080/"
        },
        "id": "91VMS_Hg4FIa",
        "outputId": "d0b09b6b-01f0-42a4-9b66-782d84a5ef57"
      },
      "execution_count": null,
      "outputs": [
        {
          "output_type": "stream",
          "name": "stdout",
          "text": [
            "/content/bowtie2-2.4.1-linux-x86_64/bowtie2-align-s version 2.4.1\n",
            "64-bit\n",
            "Built on \n",
            "Fri Feb 28 22:21:25 UTC 2020\n",
            "Compiler: gcc version 7.3.1 20180303 (Red Hat 7.3.1-5) (GCC) \n",
            "Options: -O3 -msse2 -funroll-loops -g3 -g -O2 -fvisibility=hidden -I/hbb_exe_gc_hardened/include -ffunction-sections -fdata-sections -fstack-protector -D_FORTIFY_SOURCE=2 -fPIE -DPOPCNT_CAPABILITY -DWITH_TBB -std=c++11 -DNO_SPINLOCK -DWITH_QUEUELOCK=1\n",
            "Sizeof {int, long, long long, void*, size_t, off_t}: {4, 8, 8, 8, 8, 8}\n"
          ]
        }
      ]
    },
    {
      "cell_type": "code",
      "source": [
        "!featureCounts -v\n",
        "\n"
      ],
      "metadata": {
        "colab": {
          "base_uri": "https://localhost:8080/"
        },
        "id": "1wBGMh0J4HQG",
        "outputId": "b5b58adf-55eb-4697-fd6e-4646cdeed95c"
      },
      "execution_count": null,
      "outputs": [
        {
          "output_type": "stream",
          "name": "stdout",
          "text": [
            "\n",
            "featureCounts v2.0.1\n",
            "\n"
          ]
        }
      ]
    },
    {
      "cell_type": "markdown",
      "source": [
        "# Question 1\n",
        "\n",
        "Understanding the FASTQ Format\n",
        "\n",
        "FASTQ format is a text-based format for representing either nucleotide sequences or protein sequences, together with their quality scores. One entry in a FASTQ file consists of four lines:\n",
        "\n",
        "- Line 1: Begins with a @ character and is followed by a sequence identifier and an optional description.\n",
        "- Line 2: The raw sequence letters.\n",
        "- Line 3: Begins with a + character and is optionally followed by the sequence identifier and an optional description (this line can be just a +).\n",
        "- Line 4: Encodes the quality values for the sequence in Line 2, and must contain the same number of symbols as the length of the sequence. A quality score of the i-th base is the ASCII value of the i-th character in the fourth line minus 33.\n",
        "Interpreting a FASTQ Entry"
      ],
      "metadata": {
        "id": "-gIOqRRZ4gAN"
      }
    },
    {
      "cell_type": "code",
      "source": [
        "!tar -xzf reads_7.fastq.tgz"
      ],
      "metadata": {
        "id": "lfhUqlqm4qih"
      },
      "execution_count": null,
      "outputs": []
    },
    {
      "cell_type": "code",
      "source": [
        "# First, let's unpack the reads file\n",
        "!tar -xzf reads_7.fastq.tgz\n",
        "\n",
        "# Extract one read\n",
        "with open(\"reads_008_R1.fastq\", \"r\") as file:\n",
        "    for _ in range(4):\n",
        "        print(file.readline().strip())\n"
      ],
      "metadata": {
        "colab": {
          "base_uri": "https://localhost:8080/"
        },
        "id": "0N4qJNLN4JTi",
        "outputId": "26b21dab-fb12-446e-9488-9675b3009dcf"
      },
      "execution_count": null,
      "outputs": [
        {
          "output_type": "stream",
          "name": "stdout",
          "text": [
            "@Chromosome_0_0/1\n",
            "ATAATGCGCAGGAACATTACCAACGGATAGACAGTGGCGTAAGAGAGCGCCGCCGCACCGCTGGTTGGATGAAGATTATTAGCAAACGCCAGCGCCGGAGGATCGGTCATGGAACCTGCCAGCATCCCGCACATGGTCAGGTAATTCATTTTGGCTAACATCCGCGCCAGAATGCCAACAGTAATCAGCGGAACGGCGGTGATCAGGGCACCATAACCAATCCAGCTTAGCCCTTCGCCATTGACCAGGGTATTCACAAAATTCCCACCAGATTTCCGACCAACGACCGAGTGGAACAGTA\n",
            "+\n",
            "CCCCCGGGGGGGGGGGGGFGGGGGGGGGGGGGGGGGGGGGGGGGGGGGGGGGGEGGGGGGGGGGGGGGGGGGDEGGGGGGFGGGGGGGGEGFEGGGFGGGGGCGGGFCGFGGGGGGFGGGFGFGGGGFGGGF=GGGGGGGGGCGGGGCFFGGEGFGGCGFGG9GGGGGGDFFGGGFGGGGG@:GEGGFGEGGGGGGEFCGFFGGG>EE@EG<GCGG5GGGGC2E<FCGFGGEG?9EG747FCE7FCF<GGDGG3*G/FFG::+EE/3G/*+777:))FFF7<=F5A11*7))F.*03C1**\n"
          ]
        }
      ]
    },
    {
      "cell_type": "markdown",
      "source": [
        "1. Read Identifier:\n",
        "The sequence begins with @Chromosome_0_0/1. This denotes the unique name or identifier for the read. Here, \"Chromosome_0_0\" could be a naming convention employed by the sequencing platform or a representation of the source. The \"/1\" is indicative of the possibility that this could be the first read in paired-end sequencing.\n",
        "\n",
        "\n",
        "2. Nucleotide Sequence:\n",
        "Following the identifier is the nucleotide sequence:\n",
        "\n",
        "ATAATGCGCAGGAACATTACCAACGGATAGACAGTGGCGTAAGAGAGCGCCGCCGCACCGCTGGTTGGATGAAGATTATTAGCAAACGCCAGCGCCGGAGGATCGGTCATGGAACCTGCCAGCATCCCGCACATGGTCAGGTAATTCATTTTGGCTAACATCCGCGCCAGAATGCCAACAGTAATCAGCGGAACGGCGGTGATCAGGGCACCATAACCAATCCAGCTTAGCCCTTCGCCATTGACCAGGGTATTCACAAAATTCCCACCAGATTTCCGACCAACGACCGAGTGGAACAGTA\n",
        "\n",
        "\n",
        "3. Quality Score Delimiter:\n",
        "The character + acts as a separator between the nucleotide sequence and its associated quality scores. It simply demarcates the beginning of the quality scores.\n",
        "\n",
        "4. Quality Scores:\n",
        "The subsequent string of characters encodes the quality of the nucleotide sequence. Each symbol signifies a Phred quality score for the corresponding nucleotide in the sequence. These scores are ASCII encoded.\n",
        "\n",
        "For example, the character C gives us a Phred quality score of 34 (ASCII value of C - 33). A Phred score of 34 indicates that the likelihood of an error in base calling is quite low.\n",
        "\n",
        "It's worth noting that the higher the Phred score, the lower the error probability:\n",
        "\n",
        "A Phred score of 20: Implies a 1% error probability.\n",
        "A Phred score of 30: Indicates a 0.1% error probability.\n",
        "A Phred score of 40: Corresponds to a 0.01% error probability.\n",
        "In our given read, the initial bases possess high-quality scores (represented by numerous G's). This means these bases were read with great confidence. Towards the end, the quality scores see a reduction, suggesting a decline in base call confidence.\n",
        "\n",
        "\n",
        "Conclusion:\n",
        "A FASTQ entry provides both the nucleotide sequence read by a sequencer and a measure of confidence (quality scores) for each base in that sequence. Analyzing these quality scores is pivotal for bioinformatics workflows as it aids in filtering and refining the data, ensuring its reliability for subsequent analyses.\n"
      ],
      "metadata": {
        "id": "ZrFVIsRy5WtU"
      }
    },
    {
      "cell_type": "markdown",
      "source": [
        "# Task 2"
      ],
      "metadata": {
        "id": "zZXsS3Ki6aGP"
      }
    },
    {
      "cell_type": "code",
      "source": [
        "!tar -xzf bowtie2_index.tgz\n"
      ],
      "metadata": {
        "id": "C6YCM_ow4nXD"
      },
      "execution_count": null,
      "outputs": []
    },
    {
      "cell_type": "code",
      "source": [
        "!bowtie2-build genome.fa ecoli\n",
        "\n"
      ],
      "metadata": {
        "colab": {
          "base_uri": "https://localhost:8080/"
        },
        "id": "baznvTtx6bhB",
        "outputId": "25e9c739-5325-4e8c-d088-c81993982882"
      },
      "execution_count": null,
      "outputs": [
        {
          "output_type": "stream",
          "name": "stdout",
          "text": [
            "Settings:\n",
            "  Output files: \"ecoli.*.bt2\"\n",
            "  Line rate: 6 (line is 64 bytes)\n",
            "  Lines per side: 1 (side is 64 bytes)\n",
            "  Offset rate: 4 (one in 16)\n",
            "  FTable chars: 10\n",
            "  Strings: unpacked\n",
            "  Max bucket size: default\n",
            "  Max bucket size, sqrt multiplier: default\n",
            "  Max bucket size, len divisor: 4\n",
            "  Difference-cover sample period: 1024\n",
            "  Endianness: little\n",
            "  Actual local endianness: little\n",
            "  Sanity checking: disabled\n",
            "  Assertions: disabled\n",
            "  Random seed: 0\n",
            "  Sizeofs: void*:8, int:4, long:8, size_t:8\n",
            "Input files DNA, FASTA:\n",
            "  genome.fa\n",
            "Building a SMALL index\n",
            "Reading reference sizes\n",
            "  Time reading reference sizes: 00:00:00\n",
            "Calculating joined length\n",
            "Writing header\n",
            "Reserving space for joined string\n",
            "Joining reference sequences\n",
            "  Time to join reference sequences: 00:00:00\n",
            "bmax according to bmaxDivN setting: 1160413\n",
            "Using parameters --bmax 870310 --dcv 1024\n",
            "  Doing ahead-of-time memory usage test\n",
            "  Passed!  Constructing with these parameters: --bmax 870310 --dcv 1024\n",
            "Constructing suffix-array element generator\n",
            "Building DifferenceCoverSample\n",
            "  Building sPrime\n",
            "  Building sPrimeOrder\n",
            "  V-Sorting samples\n",
            "  V-Sorting samples time: 00:00:00\n",
            "  Allocating rank array\n",
            "  Ranking v-sort output\n",
            "  Ranking v-sort output time: 00:00:00\n",
            "  Invoking Larsson-Sadakane on ranks\n",
            "  Invoking Larsson-Sadakane on ranks time: 00:00:00\n",
            "  Sanity-checking and returning\n",
            "Building samples\n",
            "Reserving space for 12 sample suffixes\n",
            "Generating random suffixes\n",
            "QSorting 12 sample offsets, eliminating duplicates\n",
            "QSorting sample offsets, eliminating duplicates time: 00:00:00\n",
            "Multikey QSorting 12 samples\n",
            "  (Using difference cover)\n",
            "  Multikey QSorting samples time: 00:00:00\n",
            "Calculating bucket sizes\n",
            "Splitting and merging\n",
            "  Splitting and merging time: 00:00:00\n",
            "Avg bucket size: 4.64165e+06 (target: 870309)\n",
            "Converting suffix-array elements to index image\n",
            "Allocating ftab, absorbFtab\n",
            "Entering Ebwt loop\n",
            "Getting block 1 of 1\n",
            "  No samples; assembling all-inclusive block\n",
            "  Sorting block of length 4641652 for bucket 1\n",
            "  (Using difference cover)\n",
            "  Sorting block time: 00:00:01\n",
            "Returning block of 4641653 for bucket 1\n",
            "Exited Ebwt loop\n",
            "fchr[A]: 0\n",
            "fchr[C]: 1142742\n",
            "fchr[G]: 2322833\n",
            "fchr[T]: 3500270\n",
            "fchr[$]: 4641652\n",
            "Exiting Ebwt::buildToDisk()\n",
            "Returning from initFromVector\n",
            "Wrote 5741802 bytes to primary EBWT file: ecoli.1.bt2\n",
            "Wrote 1160420 bytes to secondary EBWT file: ecoli.2.bt2\n",
            "Re-opening _in1 and _in2 as input streams\n",
            "Returning from Ebwt constructor\n",
            "Headers:\n",
            "    len: 4641652\n",
            "    bwtLen: 4641653\n",
            "    sz: 1160413\n",
            "    bwtSz: 1160414\n",
            "    lineRate: 6\n",
            "    offRate: 4\n",
            "    offMask: 0xfffffff0\n",
            "    ftabChars: 10\n",
            "    eftabLen: 20\n",
            "    eftabSz: 80\n",
            "    ftabLen: 1048577\n",
            "    ftabSz: 4194308\n",
            "    offsLen: 290104\n",
            "    offsSz: 1160416\n",
            "    lineSz: 64\n",
            "    sideSz: 64\n",
            "    sideBwtSz: 48\n",
            "    sideBwtLen: 192\n",
            "    numSides: 24176\n",
            "    numLines: 24176\n",
            "    ebwtTotLen: 1547264\n",
            "    ebwtTotSz: 1547264\n",
            "    color: 0\n",
            "    reverse: 0\n",
            "Total time for call to driver() for forward index: 00:00:02\n",
            "Reading reference sizes\n",
            "  Time reading reference sizes: 00:00:00\n",
            "Calculating joined length\n",
            "Writing header\n",
            "Reserving space for joined string\n",
            "Joining reference sequences\n",
            "  Time to join reference sequences: 00:00:00\n",
            "  Time to reverse reference sequence: 00:00:00\n",
            "bmax according to bmaxDivN setting: 1160413\n",
            "Using parameters --bmax 870310 --dcv 1024\n",
            "  Doing ahead-of-time memory usage test\n",
            "  Passed!  Constructing with these parameters: --bmax 870310 --dcv 1024\n",
            "Constructing suffix-array element generator\n",
            "Building DifferenceCoverSample\n",
            "  Building sPrime\n",
            "  Building sPrimeOrder\n",
            "  V-Sorting samples\n",
            "  V-Sorting samples time: 00:00:00\n",
            "  Allocating rank array\n",
            "  Ranking v-sort output\n",
            "  Ranking v-sort output time: 00:00:00\n",
            "  Invoking Larsson-Sadakane on ranks\n",
            "  Invoking Larsson-Sadakane on ranks time: 00:00:00\n",
            "  Sanity-checking and returning\n",
            "Building samples\n",
            "Reserving space for 12 sample suffixes\n",
            "Generating random suffixes\n",
            "QSorting 12 sample offsets, eliminating duplicates\n",
            "QSorting sample offsets, eliminating duplicates time: 00:00:00\n",
            "Multikey QSorting 12 samples\n",
            "  (Using difference cover)\n",
            "  Multikey QSorting samples time: 00:00:00\n",
            "Calculating bucket sizes\n",
            "Splitting and merging\n",
            "  Splitting and merging time: 00:00:00\n",
            "Avg bucket size: 4.64165e+06 (target: 870309)\n",
            "Converting suffix-array elements to index image\n",
            "Allocating ftab, absorbFtab\n",
            "Entering Ebwt loop\n",
            "Getting block 1 of 1\n",
            "  No samples; assembling all-inclusive block\n",
            "  Sorting block of length 4641652 for bucket 1\n",
            "  (Using difference cover)\n",
            "  Sorting block time: 00:00:01\n",
            "Returning block of 4641653 for bucket 1\n",
            "Exited Ebwt loop\n",
            "fchr[A]: 0\n",
            "fchr[C]: 1142742\n",
            "fchr[G]: 2322833\n",
            "fchr[T]: 3500270\n",
            "fchr[$]: 4641652\n",
            "Exiting Ebwt::buildToDisk()\n",
            "Returning from initFromVector\n",
            "Wrote 5741802 bytes to primary EBWT file: ecoli.rev.1.bt2\n",
            "Wrote 1160420 bytes to secondary EBWT file: ecoli.rev.2.bt2\n",
            "Re-opening _in1 and _in2 as input streams\n",
            "Returning from Ebwt constructor\n",
            "Headers:\n",
            "    len: 4641652\n",
            "    bwtLen: 4641653\n",
            "    sz: 1160413\n",
            "    bwtSz: 1160414\n",
            "    lineRate: 6\n",
            "    offRate: 4\n",
            "    offMask: 0xfffffff0\n",
            "    ftabChars: 10\n",
            "    eftabLen: 20\n",
            "    eftabSz: 80\n",
            "    ftabLen: 1048577\n",
            "    ftabSz: 4194308\n",
            "    offsLen: 290104\n",
            "    offsSz: 1160416\n",
            "    lineSz: 64\n",
            "    sideSz: 64\n",
            "    sideBwtSz: 48\n",
            "    sideBwtLen: 192\n",
            "    numSides: 24176\n",
            "    numLines: 24176\n",
            "    ebwtTotLen: 1547264\n",
            "    ebwtTotSz: 1547264\n",
            "    color: 0\n",
            "    reverse: 1\n",
            "Total time for backward call to driver() for mirror index: 00:00:01\n"
          ]
        }
      ]
    },
    {
      "cell_type": "code",
      "source": [
        "!bowtie2 -x ecoli -U reads_008_R1.fastq -S output.sam\n"
      ],
      "metadata": {
        "colab": {
          "base_uri": "https://localhost:8080/"
        },
        "id": "FHL1ks-n6c8b",
        "outputId": "4c00fa01-7412-4f9e-f199-e65aad8ee8f9"
      },
      "execution_count": null,
      "outputs": [
        {
          "output_type": "stream",
          "name": "stdout",
          "text": [
            "10000 reads; of these:\n",
            "  10000 (100.00%) were unpaired; of these:\n",
            "    0 (0.00%) aligned 0 times\n",
            "    9758 (97.58%) aligned exactly 1 time\n",
            "    242 (2.42%) aligned >1 times\n",
            "100.00% overall alignment rate\n"
          ]
        }
      ]
    },
    {
      "cell_type": "code",
      "source": [
        "!grep -v '^@' output.sam | head -1\n"
      ],
      "metadata": {
        "colab": {
          "base_uri": "https://localhost:8080/"
        },
        "id": "sCdz7JiV6oYt",
        "outputId": "c46d2e77-40c6-474b-c2a6-b73d331d2384"
      },
      "execution_count": null,
      "outputs": [
        {
          "output_type": "stream",
          "name": "stdout",
          "text": [
            "Chromosome_0_0/1\t0\tChromosome\t3864655\t42\t301M\t*\t0\t0\tATAATGCGCAGGAACATTACCAACGGATAGACAGTGGCGTAAGAGAGCGCCGCCGCACCGCTGGTTGGATGAAGATTATTAGCAAACGCCAGCGCCGGAGGATCGGTCATGGAACCTGCCAGCATCCCGCACATGGTCAGGTAATTCATTTTGGCTAACATCCGCGCCAGAATGCCAACAGTAATCAGCGGAACGGCGGTGATCAGGGCACCATAACCAATCCAGCTTAGCCCTTCGCCATTGACCAGGGTATTCACAAAATTCCCACCAGATTTCCGACCAACGACCGAGTGGAACAGTA\tCCCCCGGGGGGGGGGGGGFGGGGGGGGGGGGGGGGGGGGGGGGGGGGGGGGGGEGGGGGGGGGGGGGGGGGGDEGGGGGGFGGGGGGGGEGFEGGGFGGGGGCGGGFCGFGGGGGGFGGGFGFGGGGFGGGF=GGGGGGGGGCGGGGCFFGGEGFGGCGFGG9GGGGGGDFFGGGFGGGGG@:GEGGFGEGGGGGGEFCGFFGGG>EE@EG<GCGG5GGGGC2E<FCGFGGEG?9EG747FCE7FCF<GGDGG3*G/FFG::+EE/3G/*+777:))FFF7<=F5A11*7))F.*03C1**\tAS:i:-9\tXN:i:0\tXM:i:4\tXO:i:0\tXG:i:0\tNM:i:4\tMD:Z:262C13A14A7C1\tYT:Z:UU\n"
          ]
        }
      ]
    },
    {
      "cell_type": "markdown",
      "source": [
        "**Task 2 Analysis: Dissecting a Read in SAM Format**\n",
        "\n",
        "Given SAM Entry:\n",
        "\n",
        "```\n",
        "Chromosome_0_0/1\t0\tChromosome\t3864655\t42\t301M\t*\t0\t0\tATAATGCGCAGGAACATTACCAACGGATAGACAGTGGCGTAAGAGAGCGCCGCCGCACCGCTGGTTGGATGAAGATTATTAGCAAACGCCAGCGCCGGAGGATCGGTCATGGAACCTGCCAGCATCCCGCACATGGTCAGGTAATTCATTTTGGCTAACATCCGCGCCAGAATGCCAACAGTAATCAGCGGAACGGCGGTGATCAGGGCACCATAACCAATCCAGCTTAGCCCTTCGCCATTGACCAGGGTATTCACAAAATTCCCACCAGATTTCCGACCAACGACCGAGTGGAACAGTA\tCCCCCGGGGGGGGGGGGGFGGGGGGGGGGGGGGGGGGGGGGGGGGGGGGGGGGEGGGGGGGGGGGGGGGGGGDEGGGGGGFGGGGGGGGEGFEGGGFGGGGGCGGGFCGFGGGGGGFGGGFGFGGGGFGGGF=GGGGGGGGGCGGGGCFFGGEGFGGCGFGG9GGGGGGDFFGGGFGGGGG@:GEGGFGEGGGGGGEFCGFFGGG>EE@EG<GCGG5GGGGC2E<FCGFGGEG?9EG747FCE7FCF<GGDGG3*G/FFG::+EE/3G/*+777:))FFF7<=F5A11*7))F.*03C1**\tAS:i:-9\tXN:i:0\tXM:i:4\tXO:i:0\tXG:i:0\tNM:i:4\tMD:Z:262C13A14A7C1\tYT:Z:UU\n",
        "```\n",
        "\n",
        "Let's break down the provided SAM format entry:\n",
        "\n",
        "1. **QNAME: Chromosome_0_0/1**  \n",
        "   This represents the query (read) name. In this case, the read is named `Chromosome_0_0/1`.\n",
        "\n",
        "2. **FLAG: 0**  \n",
        "   The flag field provides a bitwise representation of different properties of the read. A value of `0` generally indicates that the read is mapped in a forward orientation.\n",
        "\n",
        "3. **RNAME: Chromosome**  \n",
        "   This is the reference sequence name where the read has been mapped. The read mapped onto a reference named \"Chromosome\".\n",
        "\n",
        "4. **POS: 3864655**  \n",
        "   It denotes the 1-based leftmost position/coordinate of the clipped alignment.\n",
        "\n",
        "5. **MAPQ: 42**  \n",
        "   This is the mapping quality. It represents the Phred-scaled probability that the mapping position of this read is incorrect. The higher the score, the more confidence there is in the mapping.\n",
        "\n",
        "6. **CIGAR: 301M**  \n",
        "   This represents the CIGAR string. The `301M` implies that all 301 bases in the read match to the reference genome.\n",
        "\n",
        "7. **RNEXT: ***  \n",
        "   The reference name of the mate/next read. `*` indicates that the information is not available.\n",
        "\n",
        "8. **PNEXT: 0**  \n",
        "   The position of the mate/next read. A value of `0` indicates it's not available or not applicable.\n",
        "\n",
        "9. **TLEN: 0**  \n",
        "   This is the observed template length. `0` can mean the mate pair information is not available or the read is single-ended.\n",
        "\n",
        "10. **SEQ: ATAATGCGCA...**  \n",
        "    This is the read's sequence.\n",
        "\n",
        "11. **QUAL: CCC...**  \n",
        "    It represents the Phred quality score of each base in the read. A high score (e.g., close to `Q` in ASCII) indicates a high confidence in the base call, and a lower score (e.g., close to `!`) indicates a lower confidence.\n",
        "\n",
        "12. **TAGs**  \n",
        "   - **AS:i:-9** - Alignment score.\n",
        "   - **XN:i:0** - Total number of ambiguous positions in alignment.\n",
        "   - **XM:i:4** - Number of mismatches in the alignment.\n",
        "   - **XO:i:0** - Number of gap openings.\n",
        "   - **XG:i:0** - Total number of gaps (gap extends + gap opens).\n",
        "   - **NM:i:4** - Total number of mismatches and gap openings.\n",
        "   - **MD:Z:262C13A14A7C1** - String for mismatching positions.\n",
        "   - **YT:Z:UU** - SAM tag indicating the type of read. Typically used by tools like Tophat.\n",
        "\n",
        "**Analysis Conclusion:**  \n",
        "The read \"Chromosome_0_0/1\" aligns to the reference \"Chromosome\" starting at position 3864655. The entire length of the read matches the reference genome with no insertions or deletions. There are four mismatches in this alignment, as indicated by the `XM` and `MD` tags. The mapping quality of 42 suggests a high confidence in this alignment's accuracy.\n",
        "\n"
      ],
      "metadata": {
        "id": "ekifb4nS7PNA"
      }
    },
    {
      "cell_type": "code",
      "source": [],
      "metadata": {
        "id": "RF8mJG_F7sur"
      },
      "execution_count": null,
      "outputs": []
    },
    {
      "cell_type": "code",
      "source": [],
      "metadata": {
        "id": "E3Sj7L4g7srj"
      },
      "execution_count": null,
      "outputs": []
    },
    {
      "cell_type": "markdown",
      "source": [
        "**Task 3 Analysis: Discrepancy in Read Count by featureCounts**\n",
        "\n",
        "When working with RNA-seq data and tools like featureCounts to assign reads to genomic features, it's common to observe that not all reads are counted. Several reasons might explain this discrepancy:\n",
        "\n",
        "1. **Ambiguous Mapping**: Some reads might align to multiple locations in the genome with similar alignment scores. If the tool can't confidently determine the unique origin of a read, it might discard or not count it.\n",
        "\n",
        "2. **Mapping Outside of Features**: featureCounts assigns reads to known genomic features, like exons or genes. If a read maps to an intergenic region or an intronic region (and you're counting exonic reads), it won't be counted.\n",
        "\n",
        "3. **Multimapping Reads**: If a read maps to multiple genes, featureCounts might discard it, depending on the settings. This helps avoid ambiguous assignment of reads to genes.\n",
        "\n",
        "4. **Quality Thresholds**: Reads with low mapping quality might be discarded. Poor quality alignments are less trustworthy, and removing them can help increase the confidence in the results.\n",
        "\n",
        "5. **Overlapping Genes**: Sometimes, two genes might overlap in a genome. Reads that map to these overlapping regions can be hard to assign confidently to one gene or another. Depending on settings, such reads might be discarded or counted for both genes.\n",
        "\n",
        "6. **Strand-specific Protocol**: If the RNA-seq was conducted using a strand-specific protocol and the settings of featureCounts are set to consider strand information, then reads mapping to the wrong strand will not be counted.\n",
        "\n",
        "7. **Improper Paring in Paired-end Sequencing**: In paired-end sequencing, if one of the read pairs maps well but its mate does not, the pair might be discarded depending on the settings.\n",
        "\n",
        "8. **Genome Annotation Discrepancies**: The annotation file (like GTF or GFF) used with featureCounts determines which features are recognized. If the annotation is outdated or incomplete, reads mapping to unannotated features won't be counted.\n",
        "\n",
        "**Conclusion**:  \n",
        "While featureCounts is a powerful tool for assigning reads to genomic features, several reasons can lead to some reads not being counted. It's essential to understand these reasons, as they impact the interpretation of RNA-seq results. Evaluating the summary output of featureCounts can provide insights into the number of reads discarded and why, helping to address these discrepancies.\n",
        "\n"
      ],
      "metadata": {
        "id": "rYdGDQrU7YUH"
      }
    },
    {
      "cell_type": "code",
      "source": [],
      "metadata": {
        "id": "Dgvtnge76v4E"
      },
      "execution_count": null,
      "outputs": []
    },
    {
      "cell_type": "code",
      "source": [
        "!# Extract top 3 genes with highest mapped reads\n",
        "!awk 'NR>2 {print $1, $NF}' counts.txt | sort -k2,2nr | head -3 > top3_genes.txt\n"
      ],
      "metadata": {
        "colab": {
          "base_uri": "https://localhost:8080/"
        },
        "id": "X0qaHrZ463Yi",
        "outputId": "ff192a53-59c7-4295-c38a-90eb0c867905"
      },
      "execution_count": null,
      "outputs": [
        {
          "output_type": "stream",
          "name": "stdout",
          "text": [
            "awk: cannot open counts.txt (No such file or directory)\n"
          ]
        }
      ]
    },
    {
      "cell_type": "code",
      "source": [
        "!ls"
      ],
      "metadata": {
        "colab": {
          "base_uri": "https://localhost:8080/"
        },
        "id": "zkMIkyrP63V_",
        "outputId": "e6a3721f-3973-4c69-b2d9-1f25b40b6fec"
      },
      "execution_count": null,
      "outputs": [
        {
          "output_type": "stream",
          "name": "stdout",
          "text": [
            "bowtie2-2.4.1-linux-x86_64  ecoli.3.bt2       genome.fa\n",
            "bowtie2-2.4.1.zip\t    e_coli.4.bt2      output.sam\n",
            "bowtie2_index.tgz\t    ecoli.4.bt2       reads_008_R1.fastq\n",
            "e_coli.1.bt2\t\t    e_coli.gtf\t      reads_7.fastq.tgz\n",
            "ecoli.1.bt2\t\t    e_coli.rev.1.bt2  sample_data\n",
            "e_coli.2.bt2\t\t    ecoli.rev.1.bt2   subread-2.0.1-Linux-x86_64\n",
            "ecoli.2.bt2\t\t    e_coli.rev.2.bt2  subread-2.0.1.tar.gz\n",
            "e_coli.3.bt2\t\t    ecoli.rev.2.bt2   top3_genes.txt\n"
          ]
        }
      ]
    },
    {
      "cell_type": "code",
      "source": [
        "!bowtie2 -x e_coli -U reads_008_R1.fastq -S output.sam\n"
      ],
      "metadata": {
        "colab": {
          "base_uri": "https://localhost:8080/"
        },
        "id": "qDTYpU4x63T6",
        "outputId": "ad129d36-d51a-4d73-c9a8-2d556bc0539f"
      },
      "execution_count": null,
      "outputs": [
        {
          "output_type": "stream",
          "name": "stdout",
          "text": [
            "10000 reads; of these:\n",
            "  10000 (100.00%) were unpaired; of these:\n",
            "    0 (0.00%) aligned 0 times\n",
            "    9758 (97.58%) aligned exactly 1 time\n",
            "    242 (2.42%) aligned >1 times\n",
            "100.00% overall alignment rate\n"
          ]
        }
      ]
    },
    {
      "cell_type": "code",
      "source": [
        "!subread-2.0.1-Linux-x86_64/bin/featureCounts -a e_coli.gtf -o counts.txt output.sam\n"
      ],
      "metadata": {
        "colab": {
          "base_uri": "https://localhost:8080/"
        },
        "id": "3_AfoUbQ63SA",
        "outputId": "73b2175a-3c84-435e-dcc8-be200c7b3797"
      },
      "execution_count": null,
      "outputs": [
        {
          "output_type": "stream",
          "name": "stdout",
          "text": [
            "\n",
            "       \u001b[44;37m ========== \u001b[0m\u001b[36m    _____ _    _ ____  _____  ______          _____  \n",
            "       \u001b[44;37m =====      \u001b[0m\u001b[36m   / ____| |  | |  _ \\|  __ \\|  ____|   /\\   |  __ \\ \n",
            "       \u001b[44;37m   =====    \u001b[0m\u001b[36m  | (___ | |  | | |_) | |__) | |__     /  \\  | |  | |\n",
            "       \u001b[44;37m     ====   \u001b[0m\u001b[36m   \\___ \\| |  | |  _ <|  _  /|  __|   / /\\ \\ | |  | |\n",
            "       \u001b[44;37m       ==== \u001b[0m\u001b[36m   ____) | |__| | |_) | | \\ \\| |____ / ____ \\| |__| |\n",
            "       \u001b[44;37m ========== \u001b[0m\u001b[36m  |_____/ \\____/|____/|_|  \\_\\______/_/    \\_\\_____/\u001b[0m\n",
            "\t  v2.0.1\n",
            "\n",
            "//==========================\u001b[36m featureCounts setting \u001b[0m===========================\\\\\n",
            "||  \u001b[0m                                                                          ||\n",
            "||             Input files : \u001b[36m1 SAM file  \u001b[0m \u001b[0m                                    ||\n",
            "||                           \u001b[32mo\u001b[36m output.sam\u001b[0m \u001b[0m                                    ||\n",
            "||  \u001b[0m                                                                          ||\n",
            "||             Output file : \u001b[36mcounts.txt\u001b[0m \u001b[0m                                      ||\n",
            "||                 Summary : \u001b[36mcounts.txt.summary\u001b[0m \u001b[0m                              ||\n",
            "||              Annotation : \u001b[36me_coli.gtf (GTF)\u001b[0m \u001b[0m                                ||\n",
            "||      Dir for temp files : \u001b[36m./\u001b[0m \u001b[0m                                              ||\n",
            "||  \u001b[0m                                                                          ||\n",
            "||                 Threads : \u001b[36m1\u001b[0m \u001b[0m                                               ||\n",
            "||                   Level : \u001b[36mmeta-feature level\u001b[0m \u001b[0m                              ||\n",
            "||              Paired-end : \u001b[36mno\u001b[0m \u001b[0m                                              ||\n",
            "||      Multimapping reads : \u001b[36mnot counted\u001b[0m \u001b[0m                                     ||\n",
            "|| Multi-overlapping reads : \u001b[36mnot counted\u001b[0m \u001b[0m                                     ||\n",
            "||   Min overlapping bases : \u001b[36m1\u001b[0m \u001b[0m                                               ||\n",
            "||  \u001b[0m                                                                          ||\n",
            "\\\\============================================================================//\n",
            "\n",
            "//=================================\u001b[36m Running \u001b[0m==================================\\\\\n",
            "||  \u001b[0m                                                                          ||\n",
            "|| Load annotation file e_coli.gtf \u001b[0m... \u001b[0m                                       ||\n",
            "||    Features : \u001b[36m4564\u001b[0m \u001b[0m                                                        ||\n",
            "||    Meta-features : \u001b[36m4497\u001b[0m \u001b[0m                                                   ||\n",
            "||    Chromosomes/contigs : \u001b[36m1\u001b[0m \u001b[0m                                                ||\n",
            "||  \u001b[0m                                                                          ||\n",
            "|| Process SAM file output.sam... \u001b[0m                                            ||\n",
            "||    Single-end reads are included. \u001b[0m                                         ||\n",
            "||    Total alignments : \u001b[36m10000\u001b[0m \u001b[0m                                               ||\n",
            "||    Successfully assigned alignments : \u001b[36m7921 (79.2%)\u001b[0m \u001b[0m                        ||\n",
            "||    Running time : \u001b[36m0.00 minutes\u001b[0m \u001b[0m                                            ||\n",
            "||  \u001b[0m                                                                          ||\n",
            "|| Write the final count table. \u001b[0m                                              ||\n",
            "|| Write the read assignment summary. \u001b[0m                                        ||\n",
            "||  \u001b[0m                                                                          ||\n",
            "|| Summary of counting results can be found in file \"counts.txt.summary\" \u001b[0m     ||\n",
            "||  \u001b[0m                                                                          ||\n",
            "\\\\============================================================================//\n",
            "\n"
          ]
        }
      ]
    },
    {
      "cell_type": "code",
      "source": [
        "!awk 'NR>2 {print $1, $NF}' counts.txt | sort -k2,2nr | head -3 > top3_genes.txt\n"
      ],
      "metadata": {
        "id": "bTOCd0yc63Pr"
      },
      "execution_count": null,
      "outputs": []
    },
    {
      "cell_type": "code",
      "source": [
        "!cat top3_genes.txt\n"
      ],
      "metadata": {
        "colab": {
          "base_uri": "https://localhost:8080/"
        },
        "id": "IedrSOPh8hAO",
        "outputId": "399bd9a7-78c0-4bd7-e772-bf5a733dda74"
      },
      "execution_count": null,
      "outputs": [
        {
          "output_type": "stream",
          "name": "stdout",
          "text": [
            "b0497 16\n",
            "b1978 15\n",
            "b1378 14\n"
          ]
        }
      ]
    },
    {
      "cell_type": "markdown",
      "source": [
        "\n",
        "### Task 4 [3 marks]\n",
        "\n",
        "**Objective**: To identify the three genes with the highest number of mapped reads using bowtie2, featureCounts, and subsequent result processing.\n",
        "\n",
        "**Methodology**:\n",
        "1. **Read Mapping**: Used `bowtie2` for aligning reads to the reference genome, resulting in a SAM file (`output.sam`).\n",
        "2. **Gene-based Read Counting**: Used `featureCounts` to count the number of reads mapped to each gene based on the provided GTF file (`e_coli.gtf`). The results were stored in `counts.txt`.\n",
        "3. **Result Processing**: Parsed the `counts.txt` file to extract and sort genes based on read counts.\n",
        "\n",
        "**Results**:\n",
        "From the processed data, the three genes with the highest mapped read counts are:\n",
        "1. **Gene b0497** - **16 reads**\n",
        "2. **Gene b1978** - **15 reads**\n",
        "3. **Gene b1378** - **14 reads**\n",
        "\n"
      ],
      "metadata": {
        "id": "R6ni86OW83aL"
      }
    },
    {
      "cell_type": "code",
      "source": [],
      "metadata": {
        "id": "790ABwBs8jfU"
      },
      "execution_count": null,
      "outputs": []
    }
  ]
}